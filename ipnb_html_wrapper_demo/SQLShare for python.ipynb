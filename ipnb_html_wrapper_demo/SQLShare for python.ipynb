{
 "metadata": {
  "name": ""
 },
 "nbformat": 3,
 "nbformat_minor": 0,
 "worksheets": [
  {
   "cells": [
    {
     "cell_type": "code",
     "collapsed": false,
     "input": [
      "import sqlshare\n",
      "from IPython.display import HTML\n",
      "\n",
      "s = \"SELECT * FROM [sqlshare@uw.edu].[periodic_table] WHERE [group]=12\"\n",
      "conn = sqlshare.SQLShare()\n",
      "raw_result = conn.execute_sql(s)\n",
      "Http_Wrapper = sqlshare.HTMLWrapper(raw_result)\n",
      "HTML(Http_Wrapper.get_html_code())"
     ],
     "language": "python",
     "metadata": {},
     "outputs": [
      {
       "html": [
        "<table><tr><td>u'z'</td><td>u'symbol'</td><td>u'name'</td><td>u'group'</td><td>u'period'</td><td>u'melt_kelvin'</td><td>u'boil_kelvin'</td><td>u'weight_g_per_mol'</td><td>u'first_ionization_ev'</td></tr><tr><td>30</td><td>u'Zn'</td><td>u'Zinc'</td><td>12</td><td>4</td><td>692.8</td><td>1180</td><td>65.38</td><td>9.394</td></tr><tr><td>48</td><td>u'Cd'</td><td>u'Cadmium'</td><td>12</td><td>5</td><td>594.3</td><td>1040</td><td>112.4</td><td>8.993</td></tr><tr><td>80</td><td>u'Hg'</td><td>u'Mercury'</td><td>12</td><td>6</td><td>234.4</td><td>630</td><td>200.5</td><td>10.43</td></tr><tr><td>112</td><td>u'Cn'</td><td>u'Copernicium'</td><td>12</td><td>7</td><td>0</td><td>None</td><td>277</td><td>None</td></tr></table>"
       ],
       "metadata": {},
       "output_type": "pyout",
       "prompt_number": 3,
       "text": [
        "<IPython.core.display.HTML at 0x1061d52d0>"
       ]
      }
     ],
     "prompt_number": 3
    },
    {
     "cell_type": "code",
     "collapsed": false,
     "input": [
      "import sqlshare\n",
      "from IPython.display import HTML\n",
      "\n",
      "s1 = \"SELECT * FROM [sqlshare@uw.edu].[periodic_table] WHERE [group]=12\"\n",
      "s2 = \"SELECT * FROM [sqlshare@uw.edu].[periodic_table] WHERE [group]=18\"\n",
      "\n",
      "conn = sqlshare.SQLShare()\n",
      "raw_result1 = conn.execute_sql(s1)\n",
      "raw_result2 = conn.execute_sql(s2)\n",
      "\n",
      "wrapper1 = sqlshare.HTMLWrapper(raw_result1)\n",
      "wrapper2 = sqlshare.HTMLWrapper(raw_result2)\n",
      "merged = wrapper1.merge_another(wrapper2)\n",
      "merged.get_html_page()\n"
     ],
     "language": "python",
     "metadata": {},
     "outputs": [
      {
       "html": [
        "<table><tr><td>u'z'</td><td>u'symbol'</td><td>u'name'</td><td>u'group'</td><td>u'period'</td><td>u'melt_kelvin'</td><td>u'boil_kelvin'</td><td>u'weight_g_per_mol'</td><td>u'first_ionization_ev'</td></tr><tr><td>30</td><td>u'Zn'</td><td>u'Zinc'</td><td>12</td><td>4</td><td>692.8</td><td>1180</td><td>65.38</td><td>9.394</td></tr><tr><td>48</td><td>u'Cd'</td><td>u'Cadmium'</td><td>12</td><td>5</td><td>594.3</td><td>1040</td><td>112.4</td><td>8.993</td></tr><tr><td>80</td><td>u'Hg'</td><td>u'Mercury'</td><td>12</td><td>6</td><td>234.4</td><td>630</td><td>200.5</td><td>10.43</td></tr><tr><td>112</td><td>u'Cn'</td><td>u'Copernicium'</td><td>12</td><td>7</td><td>0</td><td>None</td><td>277</td><td>None</td></tr><tr><td>2</td><td>u'He'</td><td>u'Helium'</td><td>18</td><td>1</td><td>0</td><td>4.22</td><td>4.002</td><td>24.58</td></tr><tr><td>10</td><td>u'Ne'</td><td>u'Neon'</td><td>18</td><td>2</td><td>24.7</td><td>27.07</td><td>20.17</td><td>21.56</td></tr><tr><td>18</td><td>u'Ar'</td><td>u'Argon'</td><td>18</td><td>3</td><td>83.96</td><td>87.3</td><td>39.94</td><td>15.75</td></tr><tr><td>36</td><td>u'Kr'</td><td>u'Krypton'</td><td>18</td><td>4</td><td>115.9</td><td>119.93</td><td>83.79</td><td>13.99</td></tr><tr><td>54</td><td>u'Xe'</td><td>u'Xenon'</td><td>18</td><td>5</td><td>161.4</td><td>165.03</td><td>131.2</td><td>12.12</td></tr><tr><td>86</td><td>u'Rn'</td><td>u'Radon'</td><td>18</td><td>6</td><td>202.1</td><td>211.3</td><td>222</td><td>10.74</td></tr><tr><td>118</td><td>u'Uuo'</td><td>u'Ununoctium'</td><td>18</td><td>7</td><td>0</td><td>None</td><td>293</td><td>None</td></tr></table>"
       ],
       "metadata": {},
       "output_type": "pyout",
       "prompt_number": 2,
       "text": [
        "<IPython.core.display.HTML at 0x10966ba10>"
       ]
      }
     ],
     "prompt_number": 2
    },
    {
     "cell_type": "code",
     "collapsed": false,
     "input": [],
     "language": "python",
     "metadata": {},
     "outputs": []
    }
   ],
   "metadata": {}
  }
 ]
}